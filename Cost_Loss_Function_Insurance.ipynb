{
  "nbformat": 4,
  "nbformat_minor": 0,
  "metadata": {
    "colab": {
      "provenance": [],
      "include_colab_link": true
    },
    "kernelspec": {
      "name": "python3",
      "display_name": "Python 3"
    },
    "language_info": {
      "name": "python"
    }
  },
  "cells": [
    {
      "cell_type": "markdown",
      "metadata": {
        "id": "view-in-github",
        "colab_type": "text"
      },
      "source": [
        "<a href=\"https://colab.research.google.com/github/rutujaaa0509/Deep_Learning.Assignment/blob/main/Cost_Loss_Function_Insurance.ipynb\" target=\"_parent\"><img src=\"https://colab.research.google.com/assets/colab-badge.svg\" alt=\"Open In Colab\"/></a>"
      ]
    },
    {
      "cell_type": "markdown",
      "source": [
        "## Assignment 3 - `Cost & Loss Function`"
      ],
      "metadata": {
        "id": "avrzJVfVFC5B"
      }
    },
    {
      "cell_type": "code",
      "execution_count": null,
      "metadata": {
        "id": "B7WTVxdDjeu6"
      },
      "outputs": [],
      "source": [
        "import pandas as pd\n",
        "import numpy as np\n",
        "import matplotlib.pyplot as plt\n",
        "import seaborn as sns\n",
        "from sklearn.model_selection import train_test_split\n",
        "from sklearn.linear_model import LogisticRegression\n"
      ]
    },
    {
      "cell_type": "code",
      "source": [
        "df = pd.read_csv(r'/content/new_insurance_data (1).csv')"
      ],
      "metadata": {
        "id": "QilltbA3joYP"
      },
      "execution_count": null,
      "outputs": []
    },
    {
      "cell_type": "code",
      "source": [
        "X = df[['age', 'affordibility']].values\n",
        "y = df[['bought_insurance']].values"
      ],
      "metadata": {
        "id": "EqIw20ZukGbg"
      },
      "execution_count": null,
      "outputs": []
    },
    {
      "cell_type": "code",
      "source": [
        "X[:, 0] = X[:, 0] / 100  # Normalize the 'age' column"
      ],
      "metadata": {
        "id": "OlYhWH3okGVZ"
      },
      "execution_count": null,
      "outputs": []
    },
    {
      "cell_type": "code",
      "source": [
        "X = np.hstack((np.ones((X.shape[0], 1)), X))"
      ],
      "metadata": {
        "id": "2hYyYTXukTQa"
      },
      "execution_count": null,
      "outputs": []
    },
    {
      "cell_type": "code",
      "source": [
        "# Sigmoid function\n",
        "def sigmoid(z):\n",
        "    return 1 / (1 + np.exp(-z))\n",
        "\n",
        "# Binary cross-entropy loss\n",
        "def compute_loss(y, y_pred):\n",
        "    return -np.mean(y * np.log(y_pred) + (1 - y) * np.log(1 - y_pred))\n",
        "\n",
        "def gradient_descent(X, y, lr=0.1, epochs=100):\n",
        "    m, n = X.shape  # m: number of samples, n: number of features (including bias)\n",
        "    weights = np.zeros(n).reshape(-1, 1)  # Initialize weights to zeros (n, 1)\n",
        "    losses = []\n",
        "\n",
        "    # Ensure y is reshaped correctly\n",
        "    y = y.reshape(-1, 1)\n",
        "\n",
        "    for epoch in range(epochs):\n",
        "        # Linear combination\n",
        "        z = np.dot(X, weights)  # Shape: (m, 1)\n",
        "        # Sigmoid activation\n",
        "        y_pred = 1 / (1 + np.exp(-z))  # Shape: (m, 1)\n",
        "        # Compute gradient\n",
        "        gradient = np.dot(X.T, (y_pred - y)) / m  # Shape: (n, 1)\n",
        "        # Update weights\n",
        "        weights -= lr * gradient\n",
        "        # Compute loss\n",
        "        loss = -np.mean(y * np.log(y_pred) + (1 - y) * np.log(1 - y_pred))  # Binary cross-entropy loss\n",
        "        losses.append(loss)\n",
        "\n",
        "        # Print progress every 10 epochs\n",
        "        if epoch % 10 == 0:\n",
        "            print(f\"Epoch {epoch}, Loss: {loss:.4f}\")\n",
        "\n",
        "    return weights, losses"
      ],
      "metadata": {
        "id": "QHWoPZI_kgdd"
      },
      "execution_count": null,
      "outputs": []
    },
    {
      "cell_type": "code",
      "source": [
        "# Run gradient descent\n",
        "learning_rate = 0.1\n",
        "epochs = 100\n",
        "weights, losses = gradient_descent(X, y, lr=learning_rate, epochs=epochs)\n",
        "\n",
        "# Print final weights\n",
        "print(\"Trained Weights (including bias):\", weights)"
      ],
      "metadata": {
        "colab": {
          "base_uri": "https://localhost:8080/"
        },
        "id": "dGRsH9tPk_BZ",
        "outputId": "a00273b3-94c8-4702-e694-469fa1075606"
      },
      "execution_count": null,
      "outputs": [
        {
          "output_type": "stream",
          "name": "stdout",
          "text": [
            "Epoch 0, Loss: 0.6931\n",
            "Epoch 10, Loss: 0.6862\n",
            "Epoch 20, Loss: 0.6808\n",
            "Epoch 30, Loss: 0.6763\n",
            "Epoch 40, Loss: 0.6722\n",
            "Epoch 50, Loss: 0.6685\n",
            "Epoch 60, Loss: 0.6652\n",
            "Epoch 70, Loss: 0.6621\n",
            "Epoch 80, Loss: 0.6592\n",
            "Epoch 90, Loss: 0.6565\n",
            "Trained Weights (including bias): [[-0.25495847]\n",
            " [ 0.        ]\n",
            " [ 0.55159276]]\n"
          ]
        }
      ]
    },
    {
      "cell_type": "code",
      "source": [
        "# Calculate predictions\n",
        "z = np.dot(X, weights)\n",
        "y_pred = sigmoid(z)\n",
        "y_pred_classes = (y_pred >= 0.5).astype(int)  # Convert probabilities to binary predictions\n",
        "\n",
        "# Calculate accuracy\n",
        "accuracy = np.mean(y_pred_classes == y)\n",
        "print(f\"Accuracy: {accuracy:.4f}\")"
      ],
      "metadata": {
        "colab": {
          "base_uri": "https://localhost:8080/"
        },
        "id": "HHx9sy4BlH60",
        "outputId": "486128e8-4a51-410b-b25f-9e15938b4285"
      },
      "execution_count": null,
      "outputs": [
        {
          "output_type": "stream",
          "name": "stdout",
          "text": [
            "Accuracy: 0.6786\n"
          ]
        }
      ]
    },
    {
      "cell_type": "code",
      "source": [
        "y_predicted = np.array(y_pred_classes)\n",
        "y_true = np.array(y)"
      ],
      "metadata": {
        "id": "B5-tOArOlM9J"
      },
      "execution_count": null,
      "outputs": []
    },
    {
      "cell_type": "code",
      "source": [
        "def mae(y_predicted, y_true):\n",
        "    total_error = 0\n",
        "    for yp, yt in zip(y_predicted, y_true):\n",
        "        total_error += abs(yp - yt)\n",
        "    print(\"Total error is:\",total_error)\n",
        "    mae = total_error/len(y_predicted)\n",
        "    print(\"Mean absolute error is:\",mae)\n",
        "    return mae\n"
      ],
      "metadata": {
        "id": "NK85REwwlOw8"
      },
      "execution_count": null,
      "outputs": []
    },
    {
      "cell_type": "code",
      "source": [
        "mae(y_predicted, y_true)"
      ],
      "metadata": {
        "colab": {
          "base_uri": "https://localhost:8080/"
        },
        "id": "2EokNOHQxeRj",
        "outputId": "d6076140-f6c6-4781-9669-7c93ba22c1b7"
      },
      "execution_count": null,
      "outputs": [
        {
          "output_type": "stream",
          "name": "stdout",
          "text": [
            "Total error is: [9]\n",
            "Mean absolute error is: [0.32142857]\n"
          ]
        },
        {
          "output_type": "execute_result",
          "data": {
            "text/plain": [
              "array([0.32142857])"
            ]
          },
          "metadata": {},
          "execution_count": 11
        }
      ]
    },
    {
      "cell_type": "code",
      "source": [
        "np.abs(y_predicted-y_true)"
      ],
      "metadata": {
        "colab": {
          "base_uri": "https://localhost:8080/"
        },
        "id": "3xtQOFOmxgPY",
        "outputId": "a1332e80-5647-477c-82d3-d0e2ba36bb30"
      },
      "execution_count": null,
      "outputs": [
        {
          "output_type": "execute_result",
          "data": {
            "text/plain": [
              "array([[1],\n",
              "       [0],\n",
              "       [0],\n",
              "       [0],\n",
              "       [0],\n",
              "       [0],\n",
              "       [0],\n",
              "       [1],\n",
              "       [0],\n",
              "       [0],\n",
              "       [1],\n",
              "       [1],\n",
              "       [0],\n",
              "       [0],\n",
              "       [0],\n",
              "       [0],\n",
              "       [1],\n",
              "       [0],\n",
              "       [0],\n",
              "       [1],\n",
              "       [1],\n",
              "       [0],\n",
              "       [0],\n",
              "       [0],\n",
              "       [0],\n",
              "       [0],\n",
              "       [1],\n",
              "       [1]])"
            ]
          },
          "metadata": {},
          "execution_count": 12
        }
      ]
    },
    {
      "cell_type": "code",
      "source": [
        "def mae_np(y_predicted, y_true):\n",
        "    return np.mean(np.abs(y_predicted-y_true))"
      ],
      "metadata": {
        "id": "g3hltVcIxka8"
      },
      "execution_count": null,
      "outputs": []
    },
    {
      "cell_type": "code",
      "source": [
        "mae_np(y_predicted, y_true)"
      ],
      "metadata": {
        "colab": {
          "base_uri": "https://localhost:8080/"
        },
        "id": "R60rz8hNxqFw",
        "outputId": "d97459fc-12f1-44ce-c513-8aecdc32a6a8"
      },
      "execution_count": null,
      "outputs": [
        {
          "output_type": "execute_result",
          "data": {
            "text/plain": [
              "np.float64(0.32142857142857145)"
            ]
          },
          "metadata": {},
          "execution_count": 14
        }
      ]
    },
    {
      "cell_type": "code",
      "source": [
        "np.log([0])"
      ],
      "metadata": {
        "colab": {
          "base_uri": "https://localhost:8080/"
        },
        "id": "GywNHpCGxtTu",
        "outputId": "ba3ca69c-0750-4271-b5eb-0ebf09775f1a"
      },
      "execution_count": null,
      "outputs": [
        {
          "output_type": "stream",
          "name": "stderr",
          "text": [
            "<ipython-input-15-faee82fd9f21>:1: RuntimeWarning: divide by zero encountered in log\n",
            "  np.log([0])\n"
          ]
        },
        {
          "output_type": "execute_result",
          "data": {
            "text/plain": [
              "array([-inf])"
            ]
          },
          "metadata": {},
          "execution_count": 15
        }
      ]
    },
    {
      "cell_type": "code",
      "source": [
        "epsilon = 1e-15"
      ],
      "metadata": {
        "id": "UFyKq2aDx9nP"
      },
      "execution_count": null,
      "outputs": []
    },
    {
      "cell_type": "code",
      "source": [
        "np.log([1e-15])"
      ],
      "metadata": {
        "colab": {
          "base_uri": "https://localhost:8080/"
        },
        "id": "znxXR1OgyGg6",
        "outputId": "727ccd3a-ca9b-43d0-e02c-7d4c73731f65"
      },
      "execution_count": null,
      "outputs": [
        {
          "output_type": "execute_result",
          "data": {
            "text/plain": [
              "array([-34.53877639])"
            ]
          },
          "metadata": {},
          "execution_count": 18
        }
      ]
    },
    {
      "cell_type": "code",
      "source": [
        "\n",
        "y_predicted"
      ],
      "metadata": {
        "colab": {
          "base_uri": "https://localhost:8080/"
        },
        "id": "B6TxWFcTyMXf",
        "outputId": "b1c241b5-cf0b-4bab-d716-2bd7ce3ec30e"
      },
      "execution_count": null,
      "outputs": [
        {
          "output_type": "execute_result",
          "data": {
            "text/plain": [
              "array([[1],\n",
              "       [0],\n",
              "       [1],\n",
              "       [0],\n",
              "       [1],\n",
              "       [1],\n",
              "       [0],\n",
              "       [0],\n",
              "       [1],\n",
              "       [1],\n",
              "       [1],\n",
              "       [1],\n",
              "       [0],\n",
              "       [0],\n",
              "       [1],\n",
              "       [1],\n",
              "       [0],\n",
              "       [1],\n",
              "       [0],\n",
              "       [1],\n",
              "       [1],\n",
              "       [0],\n",
              "       [1],\n",
              "       [1],\n",
              "       [1],\n",
              "       [1],\n",
              "       [1],\n",
              "       [1]])"
            ]
          },
          "metadata": {},
          "execution_count": 19
        }
      ]
    },
    {
      "cell_type": "code",
      "source": [
        "y_predicted_new = [max(i,epsilon) for i in y_predicted]\n",
        "y_predicted_new"
      ],
      "metadata": {
        "colab": {
          "base_uri": "https://localhost:8080/"
        },
        "id": "Xskl9TX3yVb3",
        "outputId": "9353f269-399b-4c3c-e3de-ffdb8541fb2a"
      },
      "execution_count": null,
      "outputs": [
        {
          "output_type": "execute_result",
          "data": {
            "text/plain": [
              "[array([1]),\n",
              " 1e-15,\n",
              " array([1]),\n",
              " 1e-15,\n",
              " array([1]),\n",
              " array([1]),\n",
              " 1e-15,\n",
              " 1e-15,\n",
              " array([1]),\n",
              " array([1]),\n",
              " array([1]),\n",
              " array([1]),\n",
              " 1e-15,\n",
              " 1e-15,\n",
              " array([1]),\n",
              " array([1]),\n",
              " 1e-15,\n",
              " array([1]),\n",
              " 1e-15,\n",
              " array([1]),\n",
              " array([1]),\n",
              " 1e-15,\n",
              " array([1]),\n",
              " array([1]),\n",
              " array([1]),\n",
              " array([1]),\n",
              " array([1]),\n",
              " array([1])]"
            ]
          },
          "metadata": {},
          "execution_count": 20
        }
      ]
    },
    {
      "cell_type": "code",
      "source": [
        "1-epsilon"
      ],
      "metadata": {
        "colab": {
          "base_uri": "https://localhost:8080/"
        },
        "id": "vddGmqMmybdp",
        "outputId": "c807a342-8df6-47e3-8e4a-9d1eccf82753"
      },
      "execution_count": null,
      "outputs": [
        {
          "output_type": "execute_result",
          "data": {
            "text/plain": [
              "0.999999999999999"
            ]
          },
          "metadata": {},
          "execution_count": 21
        }
      ]
    },
    {
      "cell_type": "code",
      "source": [
        "y_predicted_new = [min(i,1-epsilon) for i in y_predicted_new]\n",
        "y_predicted_new = np.array(y_predicted_new)\n",
        "y_predicted_new"
      ],
      "metadata": {
        "colab": {
          "base_uri": "https://localhost:8080/"
        },
        "id": "Xff76-Odyfxs",
        "outputId": "ea465de4-3628-4dad-f94d-8e2bc440ebac"
      },
      "execution_count": null,
      "outputs": [
        {
          "output_type": "execute_result",
          "data": {
            "text/plain": [
              "array([1.e+00, 1.e-15, 1.e+00, 1.e-15, 1.e+00, 1.e+00, 1.e-15, 1.e-15,\n",
              "       1.e+00, 1.e+00, 1.e+00, 1.e+00, 1.e-15, 1.e-15, 1.e+00, 1.e+00,\n",
              "       1.e-15, 1.e+00, 1.e-15, 1.e+00, 1.e+00, 1.e-15, 1.e+00, 1.e+00,\n",
              "       1.e+00, 1.e+00, 1.e+00, 1.e+00])"
            ]
          },
          "metadata": {},
          "execution_count": 22
        }
      ]
    },
    {
      "cell_type": "code",
      "source": [
        "np.log(y_predicted_new)"
      ],
      "metadata": {
        "colab": {
          "base_uri": "https://localhost:8080/"
        },
        "id": "pFbpVWhwykL0",
        "outputId": "f1c7f0ad-8c32-48c5-f2ff-9c7cb05bbbfc"
      },
      "execution_count": null,
      "outputs": [
        {
          "output_type": "execute_result",
          "data": {
            "text/plain": [
              "array([-9.99200722e-16, -3.45387764e+01, -9.99200722e-16, -3.45387764e+01,\n",
              "       -9.99200722e-16, -9.99200722e-16, -3.45387764e+01, -3.45387764e+01,\n",
              "       -9.99200722e-16, -9.99200722e-16, -9.99200722e-16, -9.99200722e-16,\n",
              "       -3.45387764e+01, -3.45387764e+01, -9.99200722e-16, -9.99200722e-16,\n",
              "       -3.45387764e+01, -9.99200722e-16, -3.45387764e+01, -9.99200722e-16,\n",
              "       -9.99200722e-16, -3.45387764e+01, -9.99200722e-16, -9.99200722e-16,\n",
              "       -9.99200722e-16, -9.99200722e-16, -9.99200722e-16, -9.99200722e-16])"
            ]
          },
          "metadata": {},
          "execution_count": 23
        }
      ]
    },
    {
      "cell_type": "code",
      "source": [
        "-np.mean(y_true*np.log(y_predicted_new)+(1-y_true)*np.log(1-y_predicted_new))"
      ],
      "metadata": {
        "colab": {
          "base_uri": "https://localhost:8080/"
        },
        "id": "8p-QyVjKyoxB",
        "outputId": "d83f51ce-b254-47ac-dbb0-cb508dc98d85"
      },
      "execution_count": null,
      "outputs": [
        {
          "output_type": "execute_result",
          "data": {
            "text/plain": [
              "np.float64(17.26965948944059)"
            ]
          },
          "metadata": {},
          "execution_count": 24
        }
      ]
    },
    {
      "cell_type": "code",
      "source": [
        "def log_loss(y_true, y_predicted):\n",
        "    y_predicted_new = [max(i,epsilon) for i in y_predicted]\n",
        "    y_predicted_new = [min(i,1-epsilon) for i in y_predicted_new]\n",
        "    y_predicted_new = np.array(y_predicted_new)\n",
        "    return -np.mean(y_true*np.log(y_predicted_new)+(1-y_true)*np.log(1-y_predicted_new))"
      ],
      "metadata": {
        "id": "XXPVEilGywIX"
      },
      "execution_count": null,
      "outputs": []
    },
    {
      "cell_type": "code",
      "source": [
        "log_loss(y_true, y_predicted)"
      ],
      "metadata": {
        "colab": {
          "base_uri": "https://localhost:8080/"
        },
        "id": "v6NyVYrWzL_q",
        "outputId": "e6b93fe6-26f5-4c4f-a879-f38a445aab9c"
      },
      "execution_count": null,
      "outputs": [
        {
          "output_type": "execute_result",
          "data": {
            "text/plain": [
              "np.float64(17.26965948944059)"
            ]
          },
          "metadata": {},
          "execution_count": 26
        }
      ]
    }
  ]
}